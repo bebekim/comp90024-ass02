{
 "cells": [
  {
   "cell_type": "code",
   "execution_count": 16,
   "metadata": {
    "collapsed": true
   },
   "outputs": [],
   "source": [
    "import sys\n",
    "import fileinput\n",
    "import json\n",
    "import pprint\n",
    "import nltk\n",
    "from nltk.stem import WordNetLemmatizer\n",
    "import matplotlib.pyplot as plt"
   ]
  },
  {
   "cell_type": "code",
   "execution_count": 2,
   "metadata": {},
   "outputs": [],
   "source": [
    "# https://docs.python.org/3.6/library/fileinput.html\n",
    "def read_file():\n",
    "  with fileinput.input(files=('Tweets2.txt')) as f:\n",
    "    for line in f:\n",
    "      tweet = json.loads(line)\n",
    "      tweets.append(tweet)\n"
   ]
  },
  {
   "cell_type": "code",
   "execution_count": 23,
   "metadata": {},
   "outputs": [],
   "source": [
    "def extract_geo():\n",
    "  for tweet in tweets:\n",
    "    if(tweet['geo'] is not None):\n",
    "      t = {\n",
    "        \"coordinates\": tweet['coordinates']['coordinates'],\n",
    "        \"date\": tweet['created_at'],\n",
    "        \"text\": tweet['text']\n",
    "        }\n",
    "      geo_tweets.append(t)\n",
    "      "
   ]
  },
  {
   "cell_type": "code",
   "execution_count": 24,
   "metadata": {},
   "outputs": [
    {
     "name": "stdout",
     "output_type": "stream",
     "text": [
      "144.44419\n145.5317846\n-38.4712149\n-37.330222\n"
     ]
    }
   ],
   "source": [
    "x = [g['coordinates'][0] for g in geo_tweets]\n",
    "xmin, xmax = min(x), max(x)\n",
    "print(xmin)\n",
    "print(xmax)\n",
    "\n",
    "y = [g['coordinates'][1] for g in geo_tweets]\n",
    "ymin, ymax = min(y), max(y)\n",
    "print(ymin)\n",
    "print(ymax)"
   ]
  },
  {
   "cell_type": "code",
   "execution_count": null,
   "metadata": {},
   "outputs": [],
   "source": []
  },
  {
   "cell_type": "code",
   "execution_count": 5,
   "metadata": {},
   "outputs": [],
   "source": [
    "wordnet_lemmatizer = WordNetLemmatizer()\n",
    "\n",
    "def tokenize_text(text):\n",
    "  sentences = nltk.sent_tokenize(text)\n",
    "  word_tokens = [nltk.word_tokenize(sentence) for sentence in sentences]\n",
    "  return word_tokens\n",
    "\n",
    "\n",
    "def remove_stopwords(tokens):\n",
    "  stopword_list = nltk.corpus.stopwords.words('english')\n",
    "  filtered_tokens = [token for token in tokens if token not in stopword_list]\n",
    "  return filtered_tokens\n",
    "\n"
   ]
  },
  {
   "cell_type": "code",
   "execution_count": 7,
   "metadata": {},
   "outputs": [],
   "source": [
    "tweets = []\n",
    "geo_tweets = []\n",
    "  \n",
    "read_file()\n",
    "extract_geo()\n"
   ]
  },
  {
   "cell_type": "code",
   "execution_count": 22,
   "metadata": {},
   "outputs": [
    {
     "name": "stdout",
     "output_type": "stream",
     "text": [
      "144.44419\n145.5317846\n-38.4712149\n-37.330222\n"
     ]
    }
   ],
   "source": [
    ""
   ]
  },
  {
   "cell_type": "code",
   "execution_count": null,
   "metadata": {},
   "outputs": [],
   "source": []
  },
  {
   "cell_type": "code",
   "execution_count": null,
   "metadata": {},
   "outputs": [],
   "source": []
  }
 ],
 "metadata": {
  "kernelspec": {
   "display_name": "Python 2",
   "language": "python",
   "name": "python2"
  },
  "language_info": {
   "codemirror_mode": {
    "name": "ipython",
    "version": 2
   },
   "file_extension": ".py",
   "mimetype": "text/x-python",
   "name": "python",
   "nbconvert_exporter": "python",
   "pygments_lexer": "ipython2",
   "version": "2.7.6"
  }
 },
 "nbformat": 4,
 "nbformat_minor": 0
}
