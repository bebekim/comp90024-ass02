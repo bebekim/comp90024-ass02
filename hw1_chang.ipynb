{
 "cells": [
  {
   "cell_type": "markdown",
   "metadata": {},
   "source": [
    "# Homework 1: Preprocessing and Text Classification"
   ]
  },
  {
   "cell_type": "markdown",
   "metadata": {
    "collapsed": true
   },
   "source": [
    "Student Name: Shi Chang Zhang\n",
    "\n",
    "Student ID: 695434\n",
    "\n",
    "Python version used: 2.7"
   ]
  },
  {
   "cell_type": "markdown",
   "metadata": {},
   "source": [
    "## General info"
   ]
  },
  {
   "cell_type": "markdown",
   "metadata": {},
   "source": [
    "<b>Due date</b>: 5pm, Thursday March 16\n",
    "\n",
    "<b>Submission method</b>: see LMS\n",
    "\n",
    "<b>Submission materials</b>: completed copy of this iPython notebook\n",
    "\n",
    "<b>Late submissions</b>: -20% per day\n",
    "\n",
    "<b>Marks</b>: 5% of mark for class\n",
    "\n",
    "<b>Overview</b>: In this homework, you'll be using a corpus of tweets to do tokenisation of hashtags and build polarity classifers using bag of word (BOW) features.\n",
    "\n",
    "<b>Materials</b>: See the main class LMS page for information on the basic setup required for this class, including an iPython notebook viewer and the python packages NLTK, Numpy, Scipy, Matplotlib, Scikit-Learn, and Gemsim. In particular, if you are not using a lab computer which already has it installed, we recommend installing all the data for NLTK, since you will need various parts of it to complete this assignment. You can also use any Python built-in packages, but do not use any other 3rd party packages; if your iPython notebook doesn't run on the marker's machine, you will lose marks.  \n",
    "\n",
    "<b>Evaluation</b>: Your iPython notebook should run end-to-end without any errors in a reasonable amount of time, and you must follow all instructions provided below, including specific implementation requirements and instructions for what needs to be printed (please avoid printing output we don't ask for). The amount each section is worth is given in parenthesis after the instructions. You will be marked not only on the correctness of your methods, but also the quality and efficency of your code: in particular, you should be careful to use Python built-in functions and operators when appropriate and pick descriptive variable names that adhere to <a href=\"https://www.python.org/dev/peps/pep-0008/\">Python style requirements</a>. If you think it might be unclear what you are doing, you should comment your code to help the marker make sense of it.\n",
    "\n",
    "<b>Extra credit</b>: Each homework has a task which is optional with respect to getting full marks on the assignment, but that can be used to offset any points lost on this or any other homework assignment (but not the final project or the exam). We recommend you skip over this step on your first pass, and come back if you have time: the amount of effort required to receive full marks (1 point) on an extra credit question will be substantially more than earning the same amount of credit on other parts of the homework.\n",
    "\n",
    "<b>Updates</b>: Any major changes to the assignment will be announced via LMS. Minor changes and clarifications will be announced in the forum on LMS, we recommend you check the forum regularly.\n",
    "\n",
    "<b>Academic Misconduct</b>: For most people, collaboration will form a natural part of the undertaking of this homework, and we encourge you to discuss it in general terms with other students. However, this ultimately is still an individual task, and so reuse of code or other instances of clear influence will be considered cheating. We will be checking submissions for originality and will invoke the University’s <a href=\"http://academichonesty.unimelb.edu.au/policy.html\">Academic Misconduct policy</a> where inappropriate levels of collusion or plagiarism are deemed to have taken place.\n"
   ]
  },
  {
   "cell_type": "markdown",
   "metadata": {},
   "source": [
    "## Preprocessing"
   ]
  },
  {
   "cell_type": "markdown",
   "metadata": {
    "collapsed": true
   },
   "source": [
    "<b>Instructions</b>: For this homework we will be using the tweets in the <i>twitter_samples</i> corpus included with NLTK. You should start by accessing these tweets. Use the <i>strings</i> method included in the NLTK corpus reader for <i>twitter_samples</i> to access the tweets (as raw strings). Iterate over the full corpus, and print out the average length, in characters, of the tweets in the corpus. (0.5)\n"
   ]
  },
  {
   "cell_type": "code",
   "execution_count": 117,
   "metadata": {},
   "outputs": [
    {
     "name": "stdout",
     "output_type": "stream",
     "text": [
      "103.887266667\n"
     ]
    }
   ],
   "source": [
    "from nltk.corpus import twitter_samples\n",
    "\n",
    "tweets = twitter_samples.strings()\n",
    "\n",
    "print(sum([len(tweet) for tweet in tweets]) / float(len(tweets)))"
   ]
  },
  {
   "cell_type": "markdown",
   "metadata": {},
   "source": [
    "<b>Instructions</b>: Hashtags (i.e. topic tags which start with #) pose an interesting tokenisation problem because they often include multiple words written without spaces or capitalization. You should use a regular expression to extract all hashtags of length 8 or longer which consist only of lower case letters (other than the # at the beginning, of course, though this should be stripped off as part of the extraction process). Do <b>not</b> tokenise the entire tweet as part of this process. The hashtag might occur at the beginning or the end of the tweet; you should double-check that you aren't missing any. After you have collected them into a list, print out number of hashtags you have collected: for full credit, you must get the exact number that we expect.  (1.0)"
   ]
  },
  {
   "cell_type": "code",
   "execution_count": 118,
   "metadata": {},
   "outputs": [
    {
     "name": "stdout",
     "output_type": "stream",
     "text": [
      "1238\n"
     ]
    }
   ],
   "source": [
    "import re\n",
    "\n",
    "hashtags = []\n",
    "\n",
    "for tweet in tweets:\n",
    "    hashtags += re.findall(r'(?:\\A|\\s)#([a-z]{8,})(?:\\Z|\\s)', tweet)\n",
    "    \n",
    "print(len(hashtags))"
   ]
  },
  {
   "cell_type": "markdown",
   "metadata": {},
   "source": [
    "<b>Instructions</b>: Now, tokenise the hashtags you've collected. To do this, you should implement a reversed version of the MaxMatch algorithm discussed in class (and in the reading), where matching begins at the end of the hashtag and progresses backwards. NLTK has a list of words that you can use for matching, see starter code below. Be careful about efficiency with respect to doing word lookups. One extra challenge you have to deal with is that the provided list of words includes only lemmas: your MaxMatch algorithm should match inflected forms by converting them into lemmas using the NLTK lemmatiser before matching. Note that the list of words is incomplete, and, if you are unable to make any longer match, your code should default to matching a single letter. Create a new list of tokenised hashtags (this should be a list of lists of strings) and use slicing to print out the last 20 hashtags in the list. (1.0)"
   ]
  },
  {
   "cell_type": "code",
   "execution_count": 119,
   "metadata": {},
   "outputs": [
    {
     "name": "stdout",
     "output_type": "stream",
     "text": [
      "[[u'scot', u'night'], [u'democrats'], [u'worrying'], [u'falling', u'labour'], [u'leaders', u'debate'], [u'wow', u'campaign'], [u'tory', u'lies'], [u'election'], [u'biased', u'b', u'b', u'c'], [u'labour', u'doorstep'], [u'biased', u'b', u'b', u'c'], [u'b', u'b', u'c', u'debate'], [u'mi', u'li', u'fandom'], [u'u', u'k', u'parliament'], [u'bedroom', u'tax'], [u'cannabis'], [u'vote', u'green'], [u'l', u'lan', u'el', u'li', u'hu', u'stings'], [u'bedroom', u'tax'], [u'bankrupt']]\n"
     ]
    }
   ],
   "source": [
    "import nltk\n",
    "\n",
    "words = nltk.corpus.words.words() # words is a Python list\n",
    "\n",
    "# Sorted for binary search\n",
    "words = [word.lower() for word in words]\n",
    "words.sort()\n",
    "\n",
    "lemmatizer = nltk.stem.wordnet.WordNetLemmatizer()\n",
    "\n",
    "def lemmatize(word):\n",
    "    lemma = lemmatizer.lemmatize(word, 'v')\n",
    "    if lemma == word:\n",
    "        lemma = lemmatizer.lemmatize(word, 'n')\n",
    "    return lemma\n",
    "\n",
    "def binsearchin(value, dict):\n",
    "    lower = 0\n",
    "    upper = len(dict) - 1\n",
    "    \n",
    "    while lower <= upper:\n",
    "        mid = (lower + upper) // 2\n",
    "        x = dict[mid]\n",
    "        if x < value:\n",
    "            lower = mid + 1\n",
    "        elif value < x:\n",
    "            upper = mid - 1\n",
    "        else:\n",
    "            return True\n",
    "    return False\n",
    "\n",
    "def rmaxmatch(string, dict):\n",
    "    if not string:\n",
    "        return []\n",
    "    for i in range(0, len(string)):\n",
    "        lastword = string[i:]\n",
    "        remainder = string[:i]\n",
    "        if binsearchin(lemmatize(lastword), dict):\n",
    "            return rmaxmatch(remainder, dict) + [lastword]\n",
    "            \n",
    "    lastword  = string[-1]\n",
    "    remainder = string[:-1]\n",
    "    return rmaxmatch(remainder, dict) + [lastword]\n",
    "\n",
    "hashtagtokens = [rmaxmatch(hashtag, words) for hashtag in hashtags]\n",
    "\n",
    "print(hashtagtokens[-20:])"
   ]
  },
  {
   "cell_type": "markdown",
   "metadata": {},
   "source": [
    "### Extra Credit (Optional)\n",
    "<b>Instructions</b>: Implement the forward version of the MaxMatch algorithm as well, and print out all the hashtags which give different results for the two versions of MaxMatch. Your main task is to come up with a good way to select which of the two segmentations is better for any given case, and demonstrate that it works significantly better than using a single version of the algorithm for all hashtags. (1.0)"
   ]
  },
  {
   "cell_type": "code",
   "execution_count": 120,
   "metadata": {},
   "outputs": [
    {
     "name": "stdout",
     "output_type": "stream",
     "text": [
      "['where', 'ist', 'hes', 'un']\n",
      "['w', 'he', 'reis', 'the', 'sun']\n",
      "['w', 'he', 'reis', 'the', 'sun']\n",
      "['best', 'oft', 'he', 'day']\n",
      "['be', 'stof', 'the', 'day']\n",
      "['be', 'stof', 'the', 'day']\n",
      "['imi', 'n', 'toher']\n",
      "['i', 'min', 'toher']\n",
      "['i', 'min', 'toher']\n",
      "['horrible', 'man']\n",
      "['h', 'or', 'rib', 'leman']\n",
      "['horrible', 'man']\n",
      "['vote', 'u', 'kip']\n",
      "['v', 'o', 't', 'eu', 'kip']\n",
      "['vote', 'u', 'kip']\n",
      "['idol', 'fans', 'ave']\n",
      "['idol', 'fan', 'save']\n",
      "['idol', 'fan', 'save']\n"
     ]
    }
   ],
   "source": [
    "def maxmatch(string, dict):\n",
    "    if not string:\n",
    "        return []\n",
    "    for i in range(len(string), 0, -1):\n",
    "        firstword = string[:i]\n",
    "        remainder = string[i:]\n",
    "        if binsearchin(lemmatize(firstword), dict):\n",
    "            return [firstword] + maxmatch(remainder, dict)\n",
    "            \n",
    "    firstword  = string[0]\n",
    "    remainder = string[1:]\n",
    "    return [firstword] + rmaxmatch(remainder, dict)\n",
    "\n",
    "def matchscore(string):\n",
    "    score = 0\n",
    "    if len(string) == 1:\n",
    "        return 1\n",
    "    for tweet in tweets:\n",
    "        score += len(re.findall('\\W'+string+'\\W',tweet))\n",
    "    return score\n",
    "\n",
    "def bettermatch(string, dict):\n",
    "    forward = maxmatch(string, dict)\n",
    "    reverse = rmaxmatch(string, dict)\n",
    "    \n",
    "    fscore = sum([matchscore(s) for s in forward])\n",
    "    rscore = sum([matchscore(s) for s in reverse])\n",
    "    \n",
    "    if fscore > rscore:\n",
    "        return forward\n",
    "    \n",
    "    return reverse\n",
    "test = 'whereisthesun'\n",
    "print (maxmatch(test, words))\n",
    "print (rmaxmatch(test, words))\n",
    "print (bettermatch(test, words))\n",
    "\n",
    "test = 'bestoftheday'\n",
    "print (maxmatch(test, words))\n",
    "print (rmaxmatch(test, words))\n",
    "print (bettermatch(test, words))\n",
    "\n",
    "test = 'imintoher'\n",
    "print (maxmatch(test, words))\n",
    "print (rmaxmatch(test, words))\n",
    "print (bettermatch(test, words))\n",
    "\n",
    "test = 'horribleman'\n",
    "print (maxmatch(test, words))\n",
    "print (rmaxmatch(test, words))\n",
    "print (bettermatch(test, words))\n",
    "\n",
    "test = 'voteukip'\n",
    "print (maxmatch(test, words))\n",
    "print (rmaxmatch(test, words))\n",
    "print (bettermatch(test, words))\n",
    "\n",
    "test = 'idolfansave'\n",
    "print (maxmatch(test, words))\n",
    "print (rmaxmatch(test, words))\n",
    "print (bettermatch(test, words))\n"
   ]
  },
  {
   "cell_type": "markdown",
   "metadata": {},
   "source": [
    "## Text classification (Not Optional)"
   ]
  },
  {
   "cell_type": "markdown",
   "metadata": {},
   "source": [
    "<b>Instructions</b>: The twitter_sample corpus has two subcorpora corresponding to positive and negative tweets. You can access already tokenised versions using the <i> tokenized </i> method, as given in the code sample below. Iterate through these two corpora and build training, development, and test sets for use with Scikit-learn. You should exclude stopwords (from the built-in NLTK list) and tokens with non-alphabetic characters (this is very important you do this because emoticons were used to build the corpus, if you don't remove them performance will be artificially high). You should randomly split each subcorpus, using 80% of the tweets for training, 10% for development, and 10% for testing; make sure you do this <b>before</b> combining the tweets from the positive/negative subcorpora, so that the sets are <i>stratified</i>, i.e. the exact ratio of positive and negative tweets is preserved across the three sets. (1.0)"
   ]
  },
  {
   "cell_type": "code",
   "execution_count": 121,
   "metadata": {
    "collapsed": true
   },
   "outputs": [],
   "source": [
    "from nltk.corpus import stopwords\n",
    "from random import shuffle\n",
    "\n",
    "stops = set(stopwords.words('english'))\n",
    "\n",
    "positive_tweets = nltk.corpus.twitter_samples.tokenized(\"positive_tweets.json\")\n",
    "negative_tweets = nltk.corpus.twitter_samples.tokenized(\"negative_tweets.json\")\n",
    "\n",
    "def removestopwords(tokens, stops):\n",
    "    r = [i for i in tokens if i.lower() not in stops and \n",
    "                                        not re.search(r'[^a-zA-Z]', i)]\n",
    "    return r\n",
    "\n",
    "positive_tweets = [removestopwords(tweet, stops) for tweet in positive_tweets]\n",
    "negative_tweets = [removestopwords(tweet, stops) for tweet in negative_tweets]\n",
    "\n",
    "shuffle(positive_tweets)\n",
    "shuffle(negative_tweets)\n",
    "\n",
    "p1 = int(len(positive_tweets)*0.8)\n",
    "n1 = int(len(negative_tweets)*0.8)\n",
    "p2 = p1 + int(len(positive_tweets)*0.1)\n",
    "n2 = n1 + int(len(negative_tweets)*0.1)\n",
    "             \n",
    "training = positive_tweets[:p1] + negative_tweets[:n1]\n",
    "development = positive_tweets[p1:p2] + negative_tweets[n1:n2]\n",
    "testing = positive_tweets[p2:] + negative_tweets[n2:]\n",
    "\n",
    "shuffle(training)\n",
    "shuffle(development)\n",
    "shuffle(testing)"
   ]
  },
  {
   "cell_type": "markdown",
   "metadata": {},
   "source": [
    "<b>Instructions</b>: Now, let's build some classifiers. Here, we'll be comparing Naive Bayes and Logistic Regression. For each, you need to first find a good value for their main regularisation (hyper)parameters, which you should identify using the scikit-learn docs or other resources. Use the development set you created for this tuning process; do <b>not</b> use crossvalidation in the training set, or involve the test set in any way. You don't need to show all your work, but you do need to print out the accuracy with enough different settings to strongly suggest you have found an optimal or near-optimal choice. We should not need to look at your code to interpret the output. (1.0)"
   ]
  },
  {
   "cell_type": "code",
   "execution_count": 122,
   "metadata": {
    "scrolled": true
   },
   "outputs": [
    {
     "name": "stdout",
     "output_type": "stream",
     "text": [
      "\n",
      "naive bayes accuracy\n",
      "0.682\n",
      "{'alpha': 5, 'fit_prior': True, 'class_prior': [0.52, 0.5]}\n",
      "\n",
      "naive bayes accuracy\n",
      "0.68\n",
      "{'alpha': 6, 'fit_prior': True, 'class_prior': [0.52, 0.5]}\n",
      "\n",
      "naive bayes accuracy\n",
      "0.679\n",
      "{'alpha': 7, 'fit_prior': True, 'class_prior': [0.52, 0.5]}\n",
      "\n",
      "naive bayes accuracy\n",
      "0.68\n",
      "{'alpha': 8, 'fit_prior': True, 'class_prior': [0.52, 0.5]}\n",
      "\n",
      "naive bayes accuracy\n",
      "0.679\n",
      "{'alpha': 9, 'fit_prior': True, 'class_prior': [0.52, 0.5]}\n",
      "\n",
      "naive bayes accuracy\n",
      "0.679\n",
      "{'alpha': 10, 'fit_prior': True, 'class_prior': [0.52, 0.5]}\n",
      "\n",
      "naive bayes accuracy\n",
      "0.682\n",
      "{'alpha': 11, 'fit_prior': True, 'class_prior': [0.52, 0.5]}\n",
      "\n",
      "naive bayes accuracy\n",
      "0.683\n",
      "{'alpha': 12, 'fit_prior': True, 'class_prior': [0.52, 0.5]}\n",
      "\n",
      "naive bayes accuracy\n",
      "0.682\n",
      "{'alpha': 13, 'fit_prior': True, 'class_prior': [0.52, 0.5]}\n",
      "\n",
      "naive bayes accuracy\n",
      "0.683\n",
      "{'alpha': 14, 'fit_prior': True, 'class_prior': [0.52, 0.5]}\n",
      "\n",
      "naive bayes accuracy\n",
      "0.682\n",
      "{'alpha': 15, 'fit_prior': True, 'class_prior': [0.52, 0.5]}\n",
      "\n",
      "naive bayes accuracy\n",
      "0.682\n",
      "{'alpha': 16, 'fit_prior': True, 'class_prior': [0.52, 0.5]}\n",
      "\n",
      "naive bayes accuracy\n",
      "0.681\n",
      "{'alpha': 17, 'fit_prior': True, 'class_prior': [0.52, 0.5]}\n",
      "\n",
      "naive bayes accuracy\n",
      "0.679\n",
      "{'alpha': 18, 'fit_prior': True, 'class_prior': [0.52, 0.5]}\n",
      "\n",
      "naive bayes accuracy\n",
      "0.678\n",
      "{'alpha': 19, 'fit_prior': True, 'class_prior': [0.52, 0.5]}\n",
      "\n",
      "naive bayes accuracy\n",
      "0.679\n",
      "{'alpha': 20, 'fit_prior': True, 'class_prior': [0.52, 0.5]}\n",
      "\n",
      "naive bayes accuracy\n",
      "0.675\n",
      "{'alpha': 21, 'fit_prior': True, 'class_prior': [0.52, 0.5]}\n",
      "\n",
      "naive bayes accuracy\n",
      "0.673\n",
      "{'alpha': 22, 'fit_prior': True, 'class_prior': [0.52, 0.5]}\n",
      "\n",
      "naive bayes accuracy\n",
      "0.672\n",
      "{'alpha': 23, 'fit_prior': True, 'class_prior': [0.52, 0.5]}\n",
      "\n",
      "naive bayes accuracy\n",
      "0.667\n",
      "{'alpha': 24, 'fit_prior': True, 'class_prior': [0.52, 0.5]}\n",
      "\n",
      "logistic regression accuracy\n",
      "0.644\n",
      "{'warm_start': False, 'C': 0.1, 'n_jobs': 1, 'verbose': 0, 'intercept_scaling': 1, 'fit_intercept': True, 'max_iter': 100, 'penalty': 'l2', 'multi_class': 'ovr', 'random_state': None, 'dual': False, 'tol': 0.0001, 'solver': 'liblinear', 'class_weight': None}\n",
      "\n",
      "logistic regression accuracy\n",
      "0.65\n",
      "{'warm_start': False, 'C': 0.2, 'n_jobs': 1, 'verbose': 0, 'intercept_scaling': 1, 'fit_intercept': True, 'max_iter': 100, 'penalty': 'l2', 'multi_class': 'ovr', 'random_state': None, 'dual': False, 'tol': 0.0001, 'solver': 'liblinear', 'class_weight': None}\n",
      "\n",
      "logistic regression accuracy\n",
      "0.652\n",
      "{'warm_start': False, 'C': 0.3, 'n_jobs': 1, 'verbose': 0, 'intercept_scaling': 1, 'fit_intercept': True, 'max_iter': 100, 'penalty': 'l2', 'multi_class': 'ovr', 'random_state': None, 'dual': False, 'tol': 0.0001, 'solver': 'liblinear', 'class_weight': None}\n",
      "\n",
      "logistic regression accuracy\n",
      "0.655\n",
      "{'warm_start': False, 'C': 0.4, 'n_jobs': 1, 'verbose': 0, 'intercept_scaling': 1, 'fit_intercept': True, 'max_iter': 100, 'penalty': 'l2', 'multi_class': 'ovr', 'random_state': None, 'dual': False, 'tol': 0.0001, 'solver': 'liblinear', 'class_weight': None}\n",
      "\n",
      "logistic regression accuracy\n",
      "0.657\n",
      "{'warm_start': False, 'C': 0.5, 'n_jobs': 1, 'verbose': 0, 'intercept_scaling': 1, 'fit_intercept': True, 'max_iter': 100, 'penalty': 'l2', 'multi_class': 'ovr', 'random_state': None, 'dual': False, 'tol': 0.0001, 'solver': 'liblinear', 'class_weight': None}\n",
      "\n",
      "logistic regression accuracy\n",
      "0.661\n",
      "{'warm_start': False, 'C': 0.6, 'n_jobs': 1, 'verbose': 0, 'intercept_scaling': 1, 'fit_intercept': True, 'max_iter': 100, 'penalty': 'l2', 'multi_class': 'ovr', 'random_state': None, 'dual': False, 'tol': 0.0001, 'solver': 'liblinear', 'class_weight': None}\n",
      "\n",
      "logistic regression accuracy\n",
      "0.662\n",
      "{'warm_start': False, 'C': 0.7, 'n_jobs': 1, 'verbose': 0, 'intercept_scaling': 1, 'fit_intercept': True, 'max_iter': 100, 'penalty': 'l2', 'multi_class': 'ovr', 'random_state': None, 'dual': False, 'tol': 0.0001, 'solver': 'liblinear', 'class_weight': None}\n",
      "\n",
      "logistic regression accuracy\n",
      "0.663\n",
      "{'warm_start': False, 'C': 0.8, 'n_jobs': 1, 'verbose': 0, 'intercept_scaling': 1, 'fit_intercept': True, 'max_iter': 100, 'penalty': 'l2', 'multi_class': 'ovr', 'random_state': None, 'dual': False, 'tol': 0.0001, 'solver': 'liblinear', 'class_weight': None}\n",
      "\n",
      "logistic regression accuracy\n",
      "0.661\n",
      "{'warm_start': False, 'C': 0.9, 'n_jobs': 1, 'verbose': 0, 'intercept_scaling': 1, 'fit_intercept': True, 'max_iter': 100, 'penalty': 'l2', 'multi_class': 'ovr', 'random_state': None, 'dual': False, 'tol': 0.0001, 'solver': 'liblinear', 'class_weight': None}\n"
     ]
    }
   ],
   "source": [
    "from sklearn.naive_bayes import MultinomialNB\n",
    "from sklearn.linear_model import LogisticRegression\n",
    "from sklearn.feature_extraction import DictVectorizer\n",
    "from sklearn.metrics import accuracy_score\n",
    "from sklearn import cross_validation \n",
    "\n",
    "def get_BOW(text):\n",
    "    BOW = {}\n",
    "    for word in text:\n",
    "        BOW[word] = BOW.get(word,0) + 1\n",
    "    return BOW\n",
    "    \n",
    "\n",
    "def prepare_tweets_data(tweets, feature_extractor):\n",
    "    feature_matrix = []\n",
    "    classifications = []\n",
    "    for tweet in tweets:\n",
    "        feature_dict = feature_extractor(tweet)\n",
    "        feature_matrix.append(feature_dict)\n",
    "        if tweet in positive_tweets:\n",
    "            classifications.append('positive')\n",
    "        else:\n",
    "            classifications.append('negative')\n",
    "    \n",
    "    vectorizer = DictVectorizer()\n",
    "    dataset = vectorizer.fit_transform(feature_matrix)\n",
    "    return dataset, classifications\n",
    "\n",
    "def check_accuracy(model, predictions, classifications):\n",
    "    print \"\\n\"+model+\" accuracy\"\n",
    "    print accuracy_score(classifications,predictions)\n",
    "\n",
    "dataset, classifications = prepare_tweets_data(development, get_BOW)\n",
    "n_to_test = range(5,25)\n",
    "clfs = [MultinomialNB(n, True, [0.52, 0.5]) for n in n_to_test]\n",
    "for clf in clfs:\n",
    "    predictions = cross_validation.cross_val_predict(clf, dataset, classifications, cv=10)\n",
    "    check_accuracy(\"naive bayes\", predictions, classifications)\n",
    "    print(clf.get_params())\n",
    "\n",
    "n_to_test = range(1,10)\n",
    "clfs = [LogisticRegression(C=n/float(10)) for n in n_to_test]\n",
    "for clf in clfs:\n",
    "    predictions = cross_validation.cross_val_predict(clf, dataset, classifications, cv=10)\n",
    "    check_accuracy(\"logistic regression\", predictions, classifications)\n",
    "    print(clf.get_params())"
   ]
  },
  {
   "cell_type": "markdown",
   "metadata": {},
   "source": [
    "<b>Instructions</b>: Using the best settings you have found, compare the two classifiers based on performance in the test set. Print out both accuracy and macroaveraged f-score for each classifier. Be sure to label your output. (0.5)"
   ]
  },
  {
   "cell_type": "code",
   "execution_count": 124,
   "metadata": {},
   "outputs": [
    {
     "name": "stdout",
     "output_type": "stream",
     "text": [
      "\n",
      "Naive Bayes\n",
      "\n",
      "accuracy\n",
      "0.82625\n",
      "             precision    recall  f1-score   support\n",
      "\n",
      "   negative       0.80      0.85      0.83      3861\n",
      "   positive       0.85      0.80      0.83      4139\n",
      "\n",
      "avg / total       0.83      0.83      0.83      8000\n",
      "\n",
      "\n",
      "LogisticRegression\n",
      "\n",
      "accuracy\n",
      "0.925\n",
      "             precision    recall  f1-score   support\n",
      "\n",
      "   negative       0.92      0.92      0.92      3861\n",
      "   positive       0.93      0.93      0.93      4139\n",
      "\n",
      "avg / total       0.92      0.93      0.92      8000\n",
      "\n"
     ]
    }
   ],
   "source": [
    "from sklearn.metrics import classification_report\n",
    "\n",
    "def check_results(predictions, classifications):\n",
    "    print \"accuracy\"\n",
    "    print accuracy_score(classifications,predictions)\n",
    "    print classification_report(classifications,predictions)\n",
    "\n",
    "NBclf = MultinomialNB(12, True, [0.52, 0.5]) \n",
    "LRclf = LogisticRegression(C=0.8)\n",
    "\n",
    "training_X, training_Y = prepare_tweets_data(training, get_BOW)\n",
    "testing_X, testing_Y = prepare_tweets_data(training, get_BOW)\n",
    "\n",
    "NBclf.fit(training_X, training_Y)\n",
    "LRclf.fit(training_X, training_Y)\n",
    "\n",
    "print(\"\\nNaive Bayes\\n\")\n",
    "predictions = NBclf.predict(testing_X)\n",
    "check_results(predictions, testing_Y)\n",
    "\n",
    "\n",
    "print(\"\\nLogisticRegression\\n\")\n",
    "predictions = LRclf.predict(testing_X)\n",
    "check_results(predictions, testing_Y)"
   ]
  },
  {
   "cell_type": "code",
   "execution_count": null,
   "metadata": {
    "collapsed": true
   },
   "outputs": [],
   "source": []
  }
 ],
 "metadata": {
  "anaconda-cloud": {},
  "kernelspec": {
   "display_name": "Python 3",
   "language": "python",
   "name": "python3"
  },
  "language_info": {
   "codemirror_mode": {
    "name": "ipython",
    "version": 3
   },
   "file_extension": ".py",
   "mimetype": "text/x-python",
   "name": "python",
   "nbconvert_exporter": "python",
   "pygments_lexer": "ipython3",
   "version": "3.6.3"
  }
 },
 "nbformat": 4,
 "nbformat_minor": 1
}
